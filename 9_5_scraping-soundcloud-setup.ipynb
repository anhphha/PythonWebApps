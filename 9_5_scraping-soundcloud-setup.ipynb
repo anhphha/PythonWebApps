{
 "cells": [
  {
   "cell_type": "markdown",
   "metadata": {},
   "source": [
    "# Scraping SoundCoud"
   ]
  },
  {
   "cell_type": "code",
   "execution_count": 80,
   "metadata": {},
   "outputs": [],
   "source": [
    "#https://docs.python-requests.org/projects/requests-html/en/latest/\n",
    "#https://www.youtube.com/watch?v=a6fIbtFB46g"
   ]
  },
  {
   "cell_type": "markdown",
   "metadata": {},
   "source": [
    "## Initial Setup"
   ]
  },
  {
   "cell_type": "code",
   "execution_count": 52,
   "metadata": {},
   "outputs": [],
   "source": [
    "# import packages\n",
    "import requests\n",
    "from bs4 import BeautifulSoup"
   ]
  },
  {
   "cell_type": "code",
   "execution_count": 53,
   "metadata": {},
   "outputs": [],
   "source": [
    "from requests_html import AsyncHTMLSession"
   ]
  },
  {
   "cell_type": "code",
   "execution_count": null,
   "metadata": {},
   "outputs": [],
   "source": []
  },
  {
   "cell_type": "markdown",
   "metadata": {},
   "source": [
    "## Connect to SoundCloud"
   ]
  },
  {
   "cell_type": "code",
   "execution_count": 54,
   "metadata": {},
   "outputs": [],
   "source": [
    "# make connection to webpage\n",
    "resp = requests.get(\"https://soundcloud.com/discover\")"
   ]
  },
  {
   "cell_type": "code",
   "execution_count": 55,
   "metadata": {},
   "outputs": [],
   "source": [
    "# get HTML from response object\n",
    "html = resp.content"
   ]
  },
  {
   "cell_type": "code",
   "execution_count": 56,
   "metadata": {},
   "outputs": [],
   "source": [
    "# convert HTML to BeautifulSoup object\n",
    "soup = BeautifulSoup(html, \"lxml\")"
   ]
  },
  {
   "cell_type": "code",
   "execution_count": null,
   "metadata": {},
   "outputs": [],
   "source": []
  },
  {
   "cell_type": "markdown",
   "metadata": {},
   "source": [
    "## Get links on the webpage.  Notice how this doesn't extract all the links visible on the webpage...what can we do about that?"
   ]
  },
  {
   "cell_type": "code",
   "execution_count": 57,
   "metadata": {},
   "outputs": [
    {
     "data": {
      "text/plain": [
       "[<a class=\"header__logoLink sc-border-box sc-ir\" href=\"/\" title=\"Home\">\n",
       " <svg aria-hidden=\"true\" viewbox=\"0 0 143 64\" xmlns=\"http://www.w3.org/2000/svg\">\n",
       " <path d=\"M308.984235,1169.99251 C308.382505,1180.70295 299.444837,1189.03525 288.718543,1188.88554 L240.008437,1188.88554 C237.777524,1188.86472 235.977065,1187.05577 235.966737,1184.82478 L235.966737,1132.37801 C235.894282,1130.53582 236.962478,1128.83883 238.654849,1128.10753 C238.654849,1128.10753 243.135035,1124.99996 252.572022,1124.99996 C258.337036,1124.99309 263.996267,1126.54789 268.948531,1129.49925 C276.76341,1134.09703 282.29495,1141.75821 284.200228,1150.62285 C285.880958,1150.14737 287.620063,1149.90993 289.36674,1149.91746 C294.659738,1149.88414 299.738952,1152.0036 303.438351,1155.78928 C307.13775,1159.57496 309.139562,1164.70168 308.984235,1169.99251 Z M229.885123,1135.69525 C231.353099,1153.48254 232.420718,1169.70654 229.885123,1187.43663 C229.796699,1188.23857 229.119091,1188.84557 228.312292,1188.84557 C227.505494,1188.84557 226.827885,1188.23857 226.739461,1187.43663 C224.375448,1169.85905 225.404938,1153.33003 226.739461,1135.69525 C226.672943,1135.09199 226.957336,1134.50383 227.471487,1134.18133 C227.985639,1133.85884 228.638946,1133.85884 229.153097,1134.18133 C229.667248,1134.50383 229.951641,1135.09199 229.885123,1135.69525 Z M220.028715,1187.4557 C219.904865,1188.26549 219.208361,1188.86356 218.389157,1188.86356 C217.569953,1188.86356 216.87345,1188.26549 216.7496,1187.4557 C214.986145,1172.28686 214.986145,1156.96477 216.7496,1141.79593 C216.840309,1140.9535 217.551388,1140.31488 218.398689,1140.31488 C219.245991,1140.31488 219.95707,1140.9535 220.047779,1141.79593 C222.005153,1156.95333 221.998746,1172.29994 220.028715,1187.4557 Z M210.153241,1140.2517 C211.754669,1156.55195 212.479125,1171.15545 210.134176,1187.41757 C210.134176,1188.29148 209.425728,1188.99993 208.551813,1188.99993 C207.677898,1188.99993 206.969449,1188.29148 206.969449,1187.41757 C204.70076,1171.36516 205.463344,1156.34224 206.969449,1140.2517 C207.05845,1139.43964 207.744425,1138.82474 208.561345,1138.82474 C209.378266,1138.82474 210.06424,1139.43964 210.153241,1140.2517 Z M200.258703,1187.47476 C200.169129,1188.29694 199.474788,1188.91975 198.647742,1188.91975 C197.820697,1188.91975 197.126356,1188.29694 197.036782,1187.47476 C195.216051,1173.32359 195.216051,1158.99744 197.036782,1144.84627 C197.036782,1143.94077 197.770837,1143.20671 198.676339,1143.20671 C199.581842,1143.20671 200.315897,1143.94077 200.315897,1144.84627 C202.251054,1158.99121 202.231809,1173.33507 200.258703,1187.47476 Z M190.383229,1155.50339 C192.880695,1166.56087 191.755882,1176.32196 190.287906,1187.58915 C190.168936,1188.33924 189.522207,1188.89148 188.762737,1188.89148 C188.003266,1188.89148 187.356537,1188.33924 187.237567,1187.58915 C185.903044,1176.47448 184.797296,1166.48462 187.142244,1155.50339 C187.142244,1154.60842 187.867763,1153.8829 188.762737,1153.8829 C189.65771,1153.8829 190.383229,1154.60842 190.383229,1155.50339 Z M180.526821,1153.82571 C182.814575,1165.15009 182.071055,1174.7396 180.469627,1186.10211 C180.27898,1187.7798 177.400223,1187.79886 177.247706,1186.10211 C175.798795,1174.91118 175.112468,1165.0357 177.190512,1153.82571 C177.281785,1152.97315 178.001234,1152.32661 178.858666,1152.32661 C179.716099,1152.32661 180.435548,1152.97315 180.526821,1153.82571 Z M170.575089,1159.31632 C172.977231,1166.82778 172.157452,1172.92846 170.479765,1180.63056 C170.391921,1181.42239 169.722678,1182.02149 168.925999,1182.02149 C168.12932,1182.02149 167.460077,1181.42239 167.372232,1180.63056 C165.923321,1173.08097 165.332318,1166.84684 167.23878,1159.31632 C167.330053,1158.46376 168.049502,1157.81722 168.906934,1157.81722 C169.764367,1157.81722 170.483816,1158.46376 170.575089,1159.31632 Z\" fill=\"currentColor\" transform=\"translate(-166.000000, -1125.000000)\"></path>\n",
       " </svg>\n",
       " SoundCloud\n",
       " </a>,\n",
       " <a class=\"sc-button sc-button-medium\" href=\"http://www.enable-javascript.com/\" target=\"_blank\">Show me how to enable it</a>,\n",
       " <a href=\"https://help.soundcloud.com/hc/articles/115003564308-Technical-requirements\">Need help?</a>,\n",
       " <a href=\"http://google.com/chrome\" target=\"_blank\" title=\"Chrome\">Chrome</a>,\n",
       " <a href=\"http://firefox.com\" target=\"_blank\" title=\"Firefox\">Firefox</a>,\n",
       " <a href=\"http://apple.com/safari\" target=\"_blank\" title=\"Safari\">Safari</a>,\n",
       " <a href=\"http://windows.microsoft.com/ie\" target=\"_blank\" title=\"Internet Explorer\">Internet Explorer</a>,\n",
       " <a class=\"sc-button\" href=\"https://help.soundcloud.com\" id=\"try-again\" target=\"_blank\">I need help</a>,\n",
       " <a href=\"/popular/searches\" title=\"Popular searches\">Popular searches</a>]"
      ]
     },
     "execution_count": 57,
     "metadata": {},
     "output_type": "execute_result"
    }
   ],
   "source": [
    "soup.find_all(\"a\")"
   ]
  },
  {
   "cell_type": "code",
   "execution_count": 58,
   "metadata": {},
   "outputs": [],
   "source": [
    "from requests_html import AsyncHTMLSession\n",
    "session = AsyncHTMLSession()"
   ]
  },
  {
   "cell_type": "code",
   "execution_count": 59,
   "metadata": {},
   "outputs": [
    {
     "data": {
      "text/plain": [
       "200"
      ]
     },
     "execution_count": 59,
     "metadata": {},
     "output_type": "execute_result"
    }
   ],
   "source": [
    "r = await session.get(\"https://soundcloud.com/discover\")\n",
    "r.status_code"
   ]
  },
  {
   "cell_type": "markdown",
   "metadata": {},
   "source": [
    "## 1) Use requests-html to extract other links on the page by executing JavaScript.  How many links do you see now?\n",
    "## 2) After you complete 1), get the text of the new paragraphs now visible in the HTML.\n",
    "## 3) Try out a few other tags - what else appears after executing the JavaScript?\n",
    "## 4) Using a CSS selector, extract the meta tag with name = \"keywords\".  Can you get this tag's attributes?\n",
    "## 5) Links that automatically open to a new a tab are identified by having a \"target\" attribute equal to \"_blank\".  Try extracting these links and their URLs."
   ]
  },
  {
   "cell_type": "markdown",
   "metadata": {},
   "source": [
    "## Task#1: Same ?"
   ]
  },
  {
   "cell_type": "markdown",
   "metadata": {},
   "source": [
    "## Task#2: Get the Text of the new paragraphs now visible in HTML"
   ]
  },
  {
   "cell_type": "code",
   "execution_count": 60,
   "metadata": {},
   "outputs": [],
   "source": [
    "import pyppdf.patch_pyppeteer\n",
    "\n",
    "await r.html.arender(sleep = 10)"
   ]
  },
  {
   "cell_type": "code",
   "execution_count": 61,
   "metadata": {},
   "outputs": [],
   "source": [
    "new_links = r.html.find(\"a\")\n",
    "paragraphs = r.html.find(\"p\")"
   ]
  },
  {
   "cell_type": "code",
   "execution_count": 68,
   "metadata": {},
   "outputs": [
    {
     "data": {
      "text/plain": [
       "['Popular playlists from the SoundCloud community',\n",
       " 'The most played tracks on SoundCloud this week',\n",
       " 'Hear whats new, now, and next in music',\n",
       " 'Popular playlists from the SoundCloud community',\n",
       " 'Popular playlists from the SoundCloud community',\n",
       " 'Popular playlists from the SoundCloud community',\n",
       " 'Up-and-coming tracks on SoundCloud',\n",
       " 'Popular playlists from the SoundCloud community',\n",
       " 'Popular playlists from the SoundCloud community',\n",
       " 'These cookies are necessary for the website to function and cannot be switched off in our systems. They are usually only set in response to actions made by you which amount to a request for services, such as setting your privacy preferences, logging in or filling in forms. You can set your browser to block or alert you about these cookies, but some parts of the site will not then work. These cookies do not store any personally identifiable information.',\n",
       " 'These cookies enable the website to provide enhanced functionality and personalisation. They may be set by us or by third party providers whose services we have added to our pages. If you do not allow these cookies then some or all of these services may not function properly.',\n",
       " 'These cookies allow us to count visits and traffic sources so we can measure and improve the performance of our site. They help us to know which pages are the most and least popular and see how visitors move around the site. All information these cookies collect is aggregated and therefore anonymous. If you do not allow these cookies we will not know when you have visited our site, and will not be able to monitor its performance.',\n",
       " 'These cookies may be set through our site by our advertising partners. They may be used by those companies to build a profile of your interests and show you relevant adverts on other sites. They do not store directly personal information, but are based on uniquely identifying your browser and internet device. If you do not allow these cookies, you will experience less targeted advertising.',\n",
       " 'These cookies allow us to show you personalized news, tips, and offers for SoundCloud products. If you turn this setting off, the communications you’ll see may be less relevant',\n",
       " '',\n",
       " 'By clicking “Accept All Cookies”, you agree to the storing of cookies on your device to enhance site navigation, analyze site usage, and assist in our marketing efforts.']"
      ]
     },
     "execution_count": 68,
     "metadata": {},
     "output_type": "execute_result"
    }
   ],
   "source": [
    "texts = [paragraph.text for paragraph in paragraphs]\n",
    "texts"
   ]
  },
  {
   "cell_type": "markdown",
   "metadata": {},
   "source": [
    "## Task#4: Using a CSS selector, extract the meta tag with name = \"keywords\". Can you get this tag's attributes?"
   ]
  },
  {
   "cell_type": "code",
   "execution_count": 73,
   "metadata": {},
   "outputs": [
    {
     "data": {
      "text/plain": [
       "[<Element 'meta' content='record, sounds, share, sound, audio, tracks, music, soundcloud' name='keywords'>]"
      ]
     },
     "execution_count": 73,
     "metadata": {},
     "output_type": "execute_result"
    }
   ],
   "source": [
    "r.html.find(\"meta[name=keywords]\")"
   ]
  },
  {
   "cell_type": "code",
   "execution_count": 79,
   "metadata": {},
   "outputs": [
    {
     "data": {
      "text/plain": [
       "{'content': 'record, sounds, share, sound, audio, tracks, music, soundcloud',\n",
       " 'name': 'keywords'}"
      ]
     },
     "execution_count": 79,
     "metadata": {},
     "output_type": "execute_result"
    }
   ],
   "source": [
    "r.html.find(\"meta[name=keywords]\")[0].attrs"
   ]
  },
  {
   "cell_type": "markdown",
   "metadata": {},
   "source": [
    "## Task#5: Links that automatically open to a new a tab are identified by having a \"target\" attribute equal to \"_blank\". Try extracting these links and their URLs."
   ]
  },
  {
   "cell_type": "code",
   "execution_count": 93,
   "metadata": {},
   "outputs": [
    {
     "data": {
      "text/plain": [
       "[<Element 'a' href='https://itunes.apple.com/us/app/soundcloud/id336353151?mt=8' target='_blank' class=('mobileAppsButtons__button', 'mobileAppsButtons__appStore', 'g-appStoreButton', 'g-appStoreButton__appStore', 'sc-ir')>,\n",
       " <Element 'a' href='https://play.google.com/store/apps/details?id=com.soundcloud.android&hl=us&referrer=utm_source%3Dsoundcloud%26utm_medium%3Dweb%26utm_campaign%3Dweb_xsell_discover_page' target='_blank' class=('mobileAppsButtons__button', 'mobileAppsButtons__googlePlay', 'g-appStoreButton', 'g-appStoreButton__googlePlay', 'sc-ir')>,\n",
       " <Element 'a' class=('sc-link-verylight', 'sc-link-secondary') href='//creators.soundcloud.com' target='_blank' title='Creator Resources'>,\n",
       " <Element 'a' class=('sc-link-verylight', 'sc-link-secondary') href='//blog.soundcloud.com' target='_blank' title='SoundCloud blog'>,\n",
       " <Element 'a' href='https://soundcloud.com/pages/cookies' class=('privacy-notice-link',) rel=('noopener',) target='_blank' aria-label='More information about your privacy, opens in a new tab'>,\n",
       " <Element 'a' href='https://onetrust.com/poweredbyonetrust' target='_blank' rel=('noopener', 'noreferrer') style='background-image: url(\"https://cdn.cookielaw.org/logos/static/poweredBy_ot_logo.svg\")' aria-label='Powered by OneTrust Opens in a new Tab'>]"
      ]
     },
     "execution_count": 93,
     "metadata": {},
     "output_type": "execute_result"
    }
   ],
   "source": [
    "blanks = r.html.find(\"a[target='_blank']\")\n",
    "blanks"
   ]
  },
  {
   "cell_type": "code",
   "execution_count": 104,
   "metadata": {},
   "outputs": [
    {
     "data": {
      "text/plain": [
       "['https://itunes.apple.com/us/app/soundcloud/id336353151?mt=8',\n",
       " 'https://play.google.com/store/apps/details?id=com.soundcloud.android&hl=us&referrer=utm_source%3Dsoundcloud%26utm_medium%3Dweb%26utm_campaign%3Dweb_xsell_discover_page',\n",
       " '//creators.soundcloud.com',\n",
       " '//blog.soundcloud.com',\n",
       " 'https://soundcloud.com/pages/cookies',\n",
       " 'https://onetrust.com/poweredbyonetrust']"
      ]
     },
     "execution_count": 104,
     "metadata": {},
     "output_type": "execute_result"
    }
   ],
   "source": [
    "urls_blank = [url.attrs['href'] for url in blanks]\n",
    "urls_blank"
   ]
  },
  {
   "cell_type": "code",
   "execution_count": 105,
   "metadata": {},
   "outputs": [
    {
     "data": {
      "text/plain": [
       "<coroutine object AsyncHTMLSession.close at 0x0000019D678CCE48>"
      ]
     },
     "execution_count": 105,
     "metadata": {},
     "output_type": "execute_result"
    }
   ],
   "source": [
    "session.close()"
   ]
  },
  {
   "cell_type": "code",
   "execution_count": null,
   "metadata": {},
   "outputs": [],
   "source": []
  }
 ],
 "metadata": {
  "kernelspec": {
   "display_name": "Python 3",
   "language": "python",
   "name": "python3"
  },
  "language_info": {
   "codemirror_mode": {
    "name": "ipython",
    "version": 3
   },
   "file_extension": ".py",
   "mimetype": "text/x-python",
   "name": "python",
   "nbconvert_exporter": "python",
   "pygments_lexer": "ipython3",
   "version": "3.7.6"
  }
 },
 "nbformat": 4,
 "nbformat_minor": 2
}
